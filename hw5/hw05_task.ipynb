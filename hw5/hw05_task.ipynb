{
 "cells": [
  {
   "cell_type": "markdown",
   "metadata": {
    "colab_type": "text",
    "id": "WyncTKTlvfdw"
   },
   "source": [
    "# Нейронные сети\n",
    "__Суммарное количество баллов: 10__\n",
    "\n",
    "__Решение отправлять на `ml.course.practice@gmail.com`__\n",
    "\n",
    "__Тема письма: `[ML][HW06] <ФИ>`, где вместо `<ФИ>` указаны фамилия и имя__\n",
    "\n",
    "Для начала вам предстоит реализовать свой собственный backpropagation и протестировать его на реальных данных, а затем научиться обучать нейронные сети при помощи библиотеки `PyTorch` и использовать это умение для классификации классического набора данных CIFAR10."
   ]
  },
  {
   "cell_type": "code",
   "execution_count": 4,
   "metadata": {
    "colab": {},
    "colab_type": "code",
    "id": "-2jd2bwkvfdy"
   },
   "outputs": [],
   "source": [
    "import numpy as np\n",
    "import copy\n",
    "from sklearn.datasets import make_blobs, make_moons"
   ]
  },
  {
   "cell_type": "markdown",
   "metadata": {
    "colab_type": "text",
    "id": "-36kkGgDvfd2"
   },
   "source": [
    "### Задание 1 (3 балла)\n",
    "Нейронные сети состоят из слоев, поэтому для начала понадобится реализовать их. Пока нам понадобятся только три:\n",
    "\n",
    "`Linear` - полносвязный слой, в котором `y = Wx + b`, где `y` - выход, `x` - вход, `W` - матрица весов, а `b` - смещение. \n",
    "\n",
    "`ReLU` - слой, соответствующий функции активации `y = max(0, x)`.\n",
    "\n",
    "`Softmax` - слой, соответствующий функции активации [softmax](https://ru.wikipedia.org/wiki/Softmax)\n",
    "\n",
    "\n",
    "#### Методы\n",
    "`forward(X)` - возвращает предсказанные для `X`. `X` может быть как вектором, так и батчем\n",
    "\n",
    "`backward(d)` - считает градиент при помощи обратного распространения ошибки. Возвращает новое значение `d`\n",
    "\n",
    "`update(alpha)` - обновляет веса (если необходимо) с заданой скоростью обучения"
   ]
  },
  {
   "cell_type": "code",
   "execution_count": 5,
   "metadata": {
    "colab": {},
    "colab_type": "code",
    "id": "fDO5Hg-uvfd3"
   },
   "outputs": [],
   "source": [
    "class Module:\n",
    "    def forward(self, x):\n",
    "        raise NotImplementedError()\n",
    "    \n",
    "    def backward(self, d):\n",
    "        raise NotImplementedError()\n",
    "        \n",
    "    def update(self, alpha):\n",
    "        pass\n",
    "        \n",
    "class Linear(Module):\n",
    "    def __init__(self, in_features, out_features):\n",
    "        self.in_f = in_features\n",
    "        self.out_f = out_features\n",
    "        self.W = np.random.rand(self.in_f, self.out_f) * 0.01\n",
    "        self.b = np.zeros(self.out_f)\n",
    "        self.x = None\n",
    "        self.dw = None\n",
    "        self.db = None\n",
    "    \n",
    "    def forward(self, x): \n",
    "        self.x = np.copy(x)\n",
    "        if len(self.x.shape) == 1:\n",
    "            self.x.reshape(1, self.x.shape[0])\n",
    "        return np.dot(self.x, self.W) + self.b\n",
    "    \n",
    "    def backward(self, d):\n",
    "        self.dw = np.dot(self.x.T, d)\n",
    "        self.db = np.sum(d, axis = 0)\n",
    "#         self.d.reshape(1, self.d.shape[0])\n",
    "        return np.dot(d, self.W.T)\n",
    "        \n",
    "    def update(self, alpha):\n",
    "        self.W = self.W - alpha * self.dw\n",
    "        self.b = self.b - alpha * self.db\n",
    "        \n",
    "class ReLU(Module):\n",
    "    def __init__(self):\n",
    "        self.x = None\n",
    "    \n",
    "    def forward(self, x):\n",
    "        self.x = np.copy(x)\n",
    "        if len(self.x.shape) == 1:\n",
    "            self.x.reshape(1, self.x.shape[0])\n",
    "        return np.maximum(self.x, 0)\n",
    "        \n",
    "    def backward(self, d):\n",
    "        ind = self.x > 0\n",
    "        return d * ind\n",
    "        \n",
    "class Softmax(Module):\n",
    "    def __init__(self):\n",
    "        self.x = None\n",
    "        self.p = None\n",
    "        \n",
    "    def forward(self, x):\n",
    "        self.x = np.copy(x)\n",
    "        if len(self.x.shape) == 1:\n",
    "            self.x.reshape(1, self.x.shape[0])\n",
    "        e = np.exp(self.x)\n",
    "        self.p = e / np.sum(e, axis = 1, keepdims = True)\n",
    "\n",
    "        return self.p\n",
    "        \n",
    "    def backward(self, y):\n",
    "        \n",
    "#         s = np.copy(self.x[np.arange(len(self.x)),y])\n",
    "\n",
    "#         s = - s + np.log(np.sum(np.exp(self.x),axis=-1))\n",
    "#         print(np.mean(s))\n",
    "        \n",
    "        d = np.copy(self.p)\n",
    "        d[np.arange(self.x.shape[0]), y] -= 1\n",
    "        return d / self.x.shape[0]"
   ]
  },
  {
   "cell_type": "markdown",
   "metadata": {
    "colab_type": "text",
    "id": "m47hhC2wvfd6"
   },
   "source": [
    "### Задание 2 (2 балла)\n",
    "Теперь сделаем саму нейронную сеть.\n",
    "\n",
    "#### Методы\n",
    "`fit(X, y)` - обучает нейронную сеть заданное число эпох. В каждой эпохе необходимо использовать [cross-entropy loss](https://ml-cheatsheet.readthedocs.io/en/latest/loss_functions.html#cross-entropy) для обучения, а так же производить обновления не по одному элементу, а используя батчи.\n",
    "\n",
    "`predict_proba(X)` - предсказывает вероятности классов для элементов `X`\n",
    "\n",
    "#### Параметры конструктора\n",
    "`modules` - список, состоящий из ранее реализованных модулей и описывающий слои нейронной сети. В конец необходимо добавить `Softmax`\n",
    "\n",
    "`epochs` - количество эпох обучения\n",
    "\n",
    "`alpha` - скорость обучения"
   ]
  },
  {
   "cell_type": "code",
   "execution_count": 6,
   "metadata": {
    "colab": {},
    "colab_type": "code",
    "id": "Ue1WMO_jvfd7"
   },
   "outputs": [],
   "source": [
    "class MLPClassifier:\n",
    "    def __init__(self, modules, epochs=100, alpha=0.01, batch_size = 100):\n",
    "        self.modules = modules + [Softmax()]\n",
    "        self.epochs = epochs\n",
    "        self.alpha = alpha\n",
    "        self.bs = batch_size\n",
    "    \n",
    "    \n",
    "    def forward(self, X):\n",
    "        cur = X\n",
    "        for module in self.modules:\n",
    "            cur = module.forward(cur)\n",
    "        return cur\n",
    "    \n",
    "    def backward(self, d):\n",
    "        cur = d\n",
    "        for i, module in enumerate(reversed(self.modules)):\n",
    "            cur = module.backward(cur)\n",
    "    \n",
    "    def update(self):\n",
    "        for module in self.modules:\n",
    "            if isinstance(module, Linear):\n",
    "                module.update(self.alpha)\n",
    "\n",
    "    def fit(self, X, y):\n",
    "        for _ in range(self.epochs):\n",
    "            bs = self.bs\n",
    "            for j in range((len(X)+bs-1) // bs):\n",
    "                cX = X[j*bs:j*bs+bs]\n",
    "                cy = y[j*bs:j*bs+bs]\n",
    "\n",
    "                self.forward(cX)\n",
    "                self.backward(cy)\n",
    "                self.update()\n",
    "        \n",
    "    def predict_proba(self, X):\n",
    "        cur = X\n",
    "        for i in range(len(self.modules)):\n",
    "            cur = self.modules[i].forward(cur)\n",
    "        return cur\n",
    "        \n",
    "    def predict(self, X):\n",
    "        p = self.predict_proba(X)\n",
    "        return np.argmax(p, axis=1)"
   ]
  },
  {
   "cell_type": "code",
   "execution_count": 7,
   "metadata": {
    "colab": {},
    "colab_type": "code",
    "id": "5deJu5I6vfd9"
   },
   "outputs": [],
   "source": [
    "p = MLPClassifier([\n",
    "    Linear(4, 64),\n",
    "    ReLU(),\n",
    "    Linear(64, 64),\n",
    "    ReLU(),\n",
    "    Linear(64, 2)\n",
    "], 4000, 0.1)\n",
    "\n",
    "X = np.random.randn(50, 4)\n",
    "y = [(0 if x[0] > x[2]**2 or x[3]**3 > 0.5 else 1) for x in X]\n",
    "p.fit(X, y)"
   ]
  },
  {
   "cell_type": "markdown",
   "metadata": {
    "colab_type": "text",
    "id": "2m1EAHrfvfd_"
   },
   "source": [
    "### Задание 3 (2 балла)\n",
    "Протестируем наше решение на синтетических данных. Необходимо подобрать гиперпараметры, при которых качество полученных классификаторов будет достаточным.\n",
    "\n",
    "#### Оценка\n",
    "Accuracy на первом датасете больше 0.85 - +1 балл\n",
    "\n",
    "Accuracy на втором датасете больше 0.85 - +1 балл"
   ]
  },
  {
   "cell_type": "code",
   "execution_count": 8,
   "metadata": {
    "colab": {},
    "colab_type": "code",
    "id": "_zL1BhCHvfeA"
   },
   "outputs": [],
   "source": [
    "X, y = make_moons(400, noise=0.075)"
   ]
  },
  {
   "cell_type": "code",
   "execution_count": 9,
   "metadata": {
    "colab": {
     "base_uri": "https://localhost:8080/",
     "height": 68
    },
    "colab_type": "code",
    "id": "NZUCL0uEvfeC",
    "outputId": "12f6bf2d-3370-4531-d520-d16b0fb813b1"
   },
   "outputs": [
    {
     "data": {
      "text/plain": [
       "array([[-0.81365411,  0.64265519],\n",
       "       [ 0.23060704,  0.93915233],\n",
       "       [ 0.98279449,  0.03142884]])"
      ]
     },
     "execution_count": 9,
     "metadata": {},
     "output_type": "execute_result"
    }
   ],
   "source": [
    "X[[1,2,3]]"
   ]
  },
  {
   "cell_type": "code",
   "execution_count": 10,
   "metadata": {
    "colab": {
     "base_uri": "https://localhost:8080/",
     "height": 34
    },
    "colab_type": "code",
    "id": "R3Zrs5JCvfeF",
    "outputId": "c69227e6-e520-47ac-b267-7c3a84c20d04"
   },
   "outputs": [
    {
     "name": "stdout",
     "output_type": "stream",
     "text": [
      "Accuracy 0.8875\n"
     ]
    }
   ],
   "source": [
    "X, y = make_moons(400, noise=0.075)\n",
    "X_test, y_test = make_moons(400, noise=0.075)\n",
    "\n",
    "best_acc = 0\n",
    "for _ in range(1):\n",
    "    p = MLPClassifier([\n",
    "    Linear(2, 100),\n",
    "    ReLU(),\n",
    "    Linear(100, 27),\n",
    "    ReLU(),\n",
    "    Linear(27, 3)\n",
    "    ], 1000, 0.1)\n",
    "\n",
    "    p.fit(X, y)\n",
    "    best_acc = max(np.mean(p.predict(X_test) == y_test), best_acc)\n",
    "print(\"Accuracy\", best_acc)"
   ]
  },
  {
   "cell_type": "code",
   "execution_count": 11,
   "metadata": {
    "colab": {
     "base_uri": "https://localhost:8080/",
     "height": 34
    },
    "colab_type": "code",
    "id": "OjZF6ypDvfeH",
    "outputId": "d5c677fd-c186-4aed-e918-a59f838e2c3d"
   },
   "outputs": [
    {
     "name": "stdout",
     "output_type": "stream",
     "text": [
      "Accuracy 0.94\n"
     ]
    }
   ],
   "source": [
    "X, y = make_blobs(400, 2, centers=[[0, 0], [2.5, 2.5], [-2.5, 3]])\n",
    "X_test, y_test = make_blobs(400, 2, centers=[[0, 0], [2.5, 2.5], [-2.5, 3]])\n",
    "best_acc = 0\n",
    "for i in range(1):\n",
    "    p = MLPClassifier([\n",
    "    Linear(2, 100),\n",
    "    ReLU(),\n",
    "    Linear(100, 27),\n",
    "    ReLU(),\n",
    "    Linear(27, 3)\n",
    "    ], 1000, 0.1)\n",
    "\n",
    "\n",
    "    p.fit(X, y)\n",
    "    best_acc = max(np.mean(p.predict(X_test) == y_test), best_acc)\n",
    "print(\"Accuracy\", best_acc)"
   ]
  },
  {
   "cell_type": "markdown",
   "metadata": {
    "colab_type": "text",
    "id": "9ExLQ0W5vfeI"
   },
   "source": [
    "## PyTorch\n",
    "\n",
    "Для выполнения следующего задания понадобится PyTorch. [Инструкция по установке](https://pytorch.org/get-started/locally/)\n",
    "\n",
    "Если у вас нет GPU, то можно использовать [Google Colab](https://colab.research.google.com/)"
   ]
  },
  {
   "cell_type": "code",
   "execution_count": 0,
   "metadata": {
    "colab": {},
    "colab_type": "code",
    "id": "nNi5x2tcvfeJ"
   },
   "outputs": [],
   "source": [
    "from torchvision import datasets, transforms\n",
    "from torch.utils.data import DataLoader\n",
    "import torch\n",
    "from tqdm import tqdm\n",
    "from torch import nn\n",
    "import torch.nn.functional as F\n",
    "import matplotlib.pyplot as plt"
   ]
  },
  {
   "cell_type": "code",
   "execution_count": 5,
   "metadata": {
    "colab": {
     "base_uri": "https://localhost:8080/",
     "height": 51
    },
    "colab_type": "code",
    "id": "tHUniMwovfeK",
    "outputId": "4bf56735-c635-4b62-af89-3a3d1237004f"
   },
   "outputs": [
    {
     "name": "stdout",
     "output_type": "stream",
     "text": [
      "Files already downloaded and verified\n",
      "Files already downloaded and verified\n"
     ]
    }
   ],
   "source": [
    "device = torch.device(\"cuda\" if torch.cuda.is_available() else \"cpu\")\n",
    "\n",
    "t = transforms.ToTensor()\n",
    "\n",
    "cifar_train = datasets.CIFAR10(\"datasets/cifar10\", download=True, train=True, transform=t)\n",
    "train_loader = DataLoader(cifar_train, batch_size=1024, shuffle=True, pin_memory=torch.cuda.is_available())\n",
    "cifar_test = datasets.CIFAR10(\"datasets/cifar10\", download=True, train=False, transform=t)\n",
    "test_loader = DataLoader(cifar_test, batch_size=1024, shuffle=False, pin_memory=torch.cuda.is_available())"
   ]
  },
  {
   "cell_type": "markdown",
   "metadata": {
    "colab_type": "text",
    "id": "EtHd1ZazvfeN"
   },
   "source": [
    "### Задание 4 (3 балла)\n",
    "А теперь поработам с настоящими нейронными сетями и настоящими данными. Необходимо реализовать сверточную нейронную сеть, которая будет классифицировать изображения из датасета CIFAR10. Имплементируйте класс `Model` и функцию `calculate_loss`. \n",
    "\n",
    "Обратите внимание, что `Model` должна считать в конце `softmax`, т.к. мы решаем задачу классификации. Соответствеено, функция `calculate_loss` считает cross-entropy.\n",
    "\n",
    "Для успешного выполнения задания необходимо, чтобы `accuracy`, `mean precision` и `mean recall` были больше 0.5\n",
    "\n",
    "__Можно пользоваться всем содержимым библиотеки PyTorch.__"
   ]
  },
  {
   "cell_type": "code",
   "execution_count": 0,
   "metadata": {
    "colab": {},
    "colab_type": "code",
    "id": "GYRniL0yvfeN"
   },
   "outputs": [],
   "source": [
    "class Model(nn.Module):\n",
    "    def __init__(self, n1, n2):\n",
    "        super().__init__()\n",
    "        self.layers = nn.ModuleList((nn.Linear(32*32*3, n1), nn.ReLU(),\n",
    "                       nn.Linear(n1, n2), nn.ReLU(),\n",
    "                       nn.Linear(n2, 10), nn.Softmax(dim=1)))\n",
    "        \n",
    "    def forward(self, x):\n",
    "        x = x.reshape([x.shape[0], 32*32*3])\n",
    "        for layer in self.layers:\n",
    "            x = layer(x)\n",
    "        return x\n",
    "\n",
    "        \n",
    "def calculate_loss(X, y, model):\n",
    "\n",
    "    loss = nn.CrossEntropyLoss()\n",
    "    res = model.forward(X)\n",
    "    return loss(res, y)"
   ]
  },
  {
   "cell_type": "markdown",
   "metadata": {
    "colab_type": "text",
    "id": "WanUNbYIvfeO"
   },
   "source": [
    "Теперь обучим нашу модель. Для этого используем ранее созданные batch loader'ы."
   ]
  },
  {
   "cell_type": "code",
   "execution_count": 0,
   "metadata": {
    "colab": {},
    "colab_type": "code",
    "id": "F5KHM6rFvfeP"
   },
   "outputs": [],
   "source": [
    "def train(model, epochs=100):\n",
    "    optimizer = torch.optim.Adam(model.parameters(), lr=1e-3)\n",
    "    train_losses = []\n",
    "    test_losses = []\n",
    "    for i in range(epochs):\n",
    "        #Train\n",
    "        loss_mean = 0\n",
    "        elements = 0\n",
    "        for X, y in iter(train_loader):\n",
    "            X = X.to(device)\n",
    "            y = y.to(device)\n",
    "            loss = calculate_loss(X, y, model)\n",
    "            optimizer.zero_grad()\n",
    "            loss.backward()\n",
    "            optimizer.step()\n",
    "            loss_mean += loss.item() * len(X)\n",
    "            elements += len(X)\n",
    "        train_losses.append(loss_mean / elements)\n",
    "        #Test\n",
    "        loss_mean = 0 \n",
    "        elements = 0\n",
    "        for X, y in iter(test_loader):\n",
    "            X = X.to(device)\n",
    "            y = y.to(device)\n",
    "            loss = calculate_loss(X, y, model)\n",
    "            loss_mean += loss.item() * len(X)\n",
    "            elements += len(X)\n",
    "        test_losses.append(loss_mean / elements)\n",
    "        print(\"Epoch\", i, \"| Train loss\", train_losses[-1], \"| Test loss\", test_losses[-1])\n",
    "    return train_losses, test_losses"
   ]
  },
  {
   "cell_type": "code",
   "execution_count": 67,
   "metadata": {
    "colab": {
     "base_uri": "https://localhost:8080/",
     "height": 1000
    },
    "colab_type": "code",
    "id": "poZZUsVFvfeQ",
    "outputId": "9012025d-a076-4e32-fee8-2dd4faf65154",
    "scrolled": true
   },
   "outputs": [
    {
     "name": "stdout",
     "output_type": "stream",
     "text": [
      "Epoch 0 | Train loss 2.2168932166290283 | Test loss 2.1624284496307373\n",
      "Epoch 1 | Train loss 2.1386241943359376 | Test loss 2.126151993179321\n",
      "Epoch 2 | Train loss 2.117949223098755 | Test loss 2.107931119918823\n",
      "Epoch 3 | Train loss 2.0991981775665285 | Test loss 2.0983351211547854\n",
      "Epoch 4 | Train loss 2.090396619338989 | Test loss 2.089881625366211\n",
      "Epoch 5 | Train loss 2.0819976610565187 | Test loss 2.087142436981201\n",
      "Epoch 6 | Train loss 2.0735295722198486 | Test loss 2.075954607772827\n",
      "Epoch 7 | Train loss 2.06175860496521 | Test loss 2.075271621322632\n",
      "Epoch 8 | Train loss 2.0664703466796874 | Test loss 2.0616686195373535\n",
      "Epoch 9 | Train loss 2.05275888961792 | Test loss 2.0590393623352052\n",
      "Epoch 10 | Train loss 2.0440520961761472 | Test loss 2.0544930168151856\n",
      "Epoch 11 | Train loss 2.043223975067139 | Test loss 2.057649287414551\n",
      "Epoch 12 | Train loss 2.0350893293762207 | Test loss 2.0572253875732422\n",
      "Epoch 13 | Train loss 2.034312051010132 | Test loss 2.0454888683319092\n",
      "Epoch 14 | Train loss 2.0250141202545167 | Test loss 2.0484198066711428\n",
      "Epoch 15 | Train loss 2.0233173905944826 | Test loss 2.0404719219207763\n",
      "Epoch 16 | Train loss 2.0177697410583497 | Test loss 2.0327190452575685\n",
      "Epoch 17 | Train loss 2.0131128270339964 | Test loss 2.0192525943756103\n",
      "Epoch 18 | Train loss 1.989569090499878 | Test loss 2.008595404434204\n",
      "Epoch 19 | Train loss 1.9880268458557129 | Test loss 2.017135038757324\n",
      "Epoch 20 | Train loss 1.9859200824737548 | Test loss 1.9977981746673583\n",
      "Epoch 21 | Train loss 1.9788715701293946 | Test loss 2.0028641960144045\n",
      "Epoch 22 | Train loss 1.9739239545440674 | Test loss 2.0006951110839846\n",
      "Epoch 23 | Train loss 1.964027573699951 | Test loss 1.988428405380249\n",
      "Epoch 24 | Train loss 1.9634270914077758 | Test loss 1.9989122146606446\n",
      "Epoch 25 | Train loss 1.9631479681015014 | Test loss 1.9849421173095703\n",
      "Epoch 26 | Train loss 1.9567509172439574 | Test loss 1.9965079776763917\n",
      "Epoch 27 | Train loss 1.951807609024048 | Test loss 1.9890902633666991\n",
      "Epoch 28 | Train loss 1.947712719116211 | Test loss 1.9930447227478028\n",
      "Epoch 29 | Train loss 1.9461547821426393 | Test loss 1.9921307662963867\n",
      "Epoch 30 | Train loss 1.9405981495666504 | Test loss 1.9932446102142334\n",
      "Epoch 31 | Train loss 1.939739144668579 | Test loss 1.9792613861083985\n",
      "Epoch 32 | Train loss 1.9336094744873047 | Test loss 1.981465022277832\n",
      "Epoch 33 | Train loss 1.9339646435928344 | Test loss 1.9820605018615722\n",
      "Epoch 34 | Train loss 1.9313035620117187 | Test loss 1.9736612335205077\n",
      "Epoch 35 | Train loss 1.9218514965820312 | Test loss 1.9777623792648316\n",
      "Epoch 36 | Train loss 1.9214384994125366 | Test loss 1.9752211540222169\n",
      "Epoch 37 | Train loss 1.9196993845367432 | Test loss 1.976670791053772\n",
      "Epoch 38 | Train loss 1.9217680514907838 | Test loss 1.9703073524475099\n",
      "Epoch 39 | Train loss 1.9263100227737426 | Test loss 1.9720691255569458\n",
      "Epoch 40 | Train loss 1.9168377390670777 | Test loss 1.9793559467315673\n",
      "Epoch 41 | Train loss 1.9145423639678956 | Test loss 1.966465989112854\n",
      "Epoch 42 | Train loss 1.9055191316986084 | Test loss 1.9682157222747803\n",
      "Epoch 43 | Train loss 1.9022107320404054 | Test loss 1.9669372270584107\n",
      "Epoch 44 | Train loss 1.8961659102630615 | Test loss 1.9608540782928467\n",
      "Epoch 45 | Train loss 1.8962504681015016 | Test loss 1.964929391670227\n",
      "Epoch 46 | Train loss 1.898048006210327 | Test loss 1.9587755001068115\n",
      "Epoch 47 | Train loss 1.8983805670547484 | Test loss 1.9645753620147706\n",
      "Epoch 48 | Train loss 1.8914224948120117 | Test loss 1.9585133878707885\n",
      "Epoch 49 | Train loss 1.8829046271133423 | Test loss 1.965695175743103\n",
      "Epoch 50 | Train loss 1.8888389850997924 | Test loss 1.957650715637207\n",
      "Epoch 51 | Train loss 1.8863161086273192 | Test loss 1.9509754016876222\n",
      "Epoch 52 | Train loss 1.881566770362854 | Test loss 1.9638046157836915\n",
      "Epoch 53 | Train loss 1.8812962302398681 | Test loss 1.9494556875228881\n",
      "Epoch 54 | Train loss 1.8761127041625976 | Test loss 1.9621642721176147\n",
      "Epoch 55 | Train loss 1.8731185195159912 | Test loss 1.953408825492859\n",
      "Epoch 56 | Train loss 1.871572303199768 | Test loss 1.9491986894607545\n",
      "Epoch 57 | Train loss 1.8646590144729613 | Test loss 1.9474803565979004\n",
      "Epoch 58 | Train loss 1.8644491926574707 | Test loss 1.947694554710388\n",
      "Epoch 59 | Train loss 1.86542655128479 | Test loss 1.9554373920440673\n",
      "Epoch 60 | Train loss 1.8664548545074462 | Test loss 1.9592500076293946\n",
      "Epoch 61 | Train loss 1.85871030292511 | Test loss 1.9477493377685546\n",
      "Epoch 62 | Train loss 1.8565398892593383 | Test loss 1.9455288248062135\n",
      "Epoch 63 | Train loss 1.8552401612472533 | Test loss 1.95193297290802\n",
      "Epoch 64 | Train loss 1.8526736661529541 | Test loss 1.9481671855926515\n",
      "Epoch 65 | Train loss 1.8492338019180299 | Test loss 1.9456724338531495\n",
      "Epoch 66 | Train loss 1.845602467803955 | Test loss 1.9480638034820557\n",
      "Epoch 67 | Train loss 1.843479474182129 | Test loss 1.9474360754013063\n",
      "Epoch 68 | Train loss 1.8476012092590333 | Test loss 1.944116862487793\n",
      "Epoch 69 | Train loss 1.8442299857330322 | Test loss 1.9492391759872436\n",
      "Epoch 70 | Train loss 1.8440294731140137 | Test loss 1.9466993669509887\n",
      "Epoch 71 | Train loss 1.841934301071167 | Test loss 1.9439645725250243\n",
      "Epoch 72 | Train loss 1.8458288771438598 | Test loss 1.94023385181427\n",
      "Epoch 73 | Train loss 1.8353432221221924 | Test loss 1.9372056074142456\n",
      "Epoch 74 | Train loss 1.8283564751434327 | Test loss 1.9437258882522583\n",
      "Epoch 75 | Train loss 1.8317551662445068 | Test loss 1.949028537750244\n",
      "Epoch 76 | Train loss 1.8318462578201293 | Test loss 1.9452885459899902\n",
      "Epoch 77 | Train loss 1.8274309332275391 | Test loss 1.9454564712524414\n",
      "Epoch 78 | Train loss 1.828542605934143 | Test loss 1.9455793542861939\n",
      "Epoch 79 | Train loss 1.8260150847625733 | Test loss 1.9412497777938842\n",
      "Epoch 80 | Train loss 1.8285130828094482 | Test loss 1.9471303462982177\n",
      "Epoch 81 | Train loss 1.832834345817566 | Test loss 1.945668391418457\n",
      "Epoch 82 | Train loss 1.825917021331787 | Test loss 1.9350736915588378\n",
      "Epoch 83 | Train loss 1.8169971459197998 | Test loss 1.9433614624023436\n",
      "Epoch 84 | Train loss 1.8161746560287475 | Test loss 1.938910800743103\n",
      "Epoch 85 | Train loss 1.8112879697036743 | Test loss 1.9338845586776734\n",
      "Epoch 86 | Train loss 1.815073443107605 | Test loss 1.9448536262512206\n",
      "Epoch 87 | Train loss 1.8169342402648925 | Test loss 1.9405969615936278\n",
      "Epoch 88 | Train loss 1.8134862202072144 | Test loss 1.9434761360168458\n",
      "Epoch 89 | Train loss 1.8153131215667724 | Test loss 1.939477681541443\n",
      "Epoch 90 | Train loss 1.8094271711349488 | Test loss 1.9327696168899535\n",
      "Epoch 91 | Train loss 1.807613313102722 | Test loss 1.9408922706604004\n",
      "Epoch 92 | Train loss 1.8008467405700683 | Test loss 1.9324421865463257\n",
      "Epoch 93 | Train loss 1.7971179151535035 | Test loss 1.9370186382293701\n",
      "Epoch 94 | Train loss 1.8006918058013917 | Test loss 1.937524356651306\n",
      "Epoch 95 | Train loss 1.8024370415878297 | Test loss 1.9348574743270874\n",
      "Epoch 96 | Train loss 1.7949688161849975 | Test loss 1.9335773527145386\n",
      "Epoch 97 | Train loss 1.7960525994110108 | Test loss 1.9472249423980712\n",
      "Epoch 98 | Train loss 1.7936808989715576 | Test loss 1.9367897621154786\n",
      "Epoch 99 | Train loss 1.7963549431991577 | Test loss 1.937249403190613\n"
     ]
    }
   ],
   "source": [
    "model = Model(1000, 100).to(device)\n",
    "train_l, test_l = train(model)"
   ]
  },
  {
   "cell_type": "markdown",
   "metadata": {
    "colab_type": "text",
    "id": "eaJiJtElvfeR"
   },
   "source": [
    "Построим график функции потерь"
   ]
  },
  {
   "cell_type": "code",
   "execution_count": 69,
   "metadata": {
    "colab": {
     "base_uri": "https://localhost:8080/",
     "height": 441
    },
    "colab_type": "code",
    "id": "UxTtIuRIvfeR",
    "outputId": "1d2df55b-08d0-4bc2-86c5-0fe4e4e318a4"
   },
   "outputs": [
    {
     "data": {
      "image/png": "[encoded data removed]",
      "text/plain": [
       "<Figure size 864x432 with 1 Axes>"
      ]
     },
     "metadata": {
      "tags": []
     },
     "output_type": "display_data"
    }
   ],
   "source": [
    "plt.figure(figsize=(12, 6))\n",
    "plt.plot(range(len(train_l)), train_l, label=\"train\")\n",
    "plt.plot(range(len(test_l)), test_l, label=\"test\")\n",
    "plt.xlabel(\"Epoch\")\n",
    "plt.ylabel(\"Loss\")\n",
    "plt.legend()\n",
    "plt.tight_layout()\n",
    "plt.show()"
   ]
  },
  {
   "cell_type": "markdown",
   "metadata": {
    "colab_type": "text",
    "id": "MSzSqJSfvfeT"
   },
   "source": [
    "И, наконец, посчитаем метрики"
   ]
  },
  {
   "cell_type": "code",
   "execution_count": 68,
   "metadata": {
    "colab": {
     "base_uri": "https://localhost:8080/",
     "height": 119
    },
    "colab_type": "code",
    "id": "PLPYQPCPvfeT",
    "outputId": "bcfe2054-964f-4ae9-c488-31bc0ec7d082"
   },
   "outputs": [
    {
     "name": "stdout",
     "output_type": "stream",
     "text": [
      "Overall accuracy 0.5203\n",
      "Precision [0.54655172 0.61724806 0.40737327 0.33743274 0.50307503 0.43391188\n",
      " 0.6519945  0.59818731 0.60821918 0.55789474]\n",
      "Recall [0.634 0.637 0.442 0.439 0.409 0.325 0.474 0.594 0.666 0.583]\n",
      "Mean Precision 0.5261888439385471\n",
      "Mean Recall 0.5203\n"
     ]
    }
   ],
   "source": [
    "true_positive = np.zeros(10)\n",
    "true_negative = np.zeros(10)\n",
    "false_positive = np.zeros(10)\n",
    "false_negative = np.zeros(10)\n",
    "accuracy = 0\n",
    "ctn = 0\n",
    "for X, y in iter(test_loader):\n",
    "    X = X.to(device)\n",
    "    y = y.to(device)\n",
    "    with torch.no_grad():\n",
    "        y_pred = model(X).max(dim=1)[1]\n",
    "    for i in range(10):\n",
    "        for pred, real in zip(y_pred, y):\n",
    "            if real == i:\n",
    "                if pred == real:\n",
    "                    true_positive[i] += 1\n",
    "                else:\n",
    "                    false_negative[i] += 1\n",
    "            else:\n",
    "                if pred == i:\n",
    "                    false_positive[i] += 1\n",
    "                else:\n",
    "                    true_negative[i] += 1\n",
    "            \n",
    "    accuracy += torch.sum(y_pred == y).item()\n",
    "    ctn += len(y)\n",
    "print(\"Overall accuracy\", accuracy / ctn)\n",
    "print(\"Precision\", true_positive / (true_positive + false_positive))\n",
    "print(\"Recall\", true_positive / (true_positive + false_negative))\n",
    "print(\"Mean Precision\", np.mean(true_positive / (true_positive + false_positive)))\n",
    "print(\"Mean Recall\", np.mean(true_positive / (true_positive + false_negative)))"
   ]
  },
  {
   "cell_type": "code",
   "execution_count": 0,
   "metadata": {
    "colab": {},
    "colab_type": "code",
    "id": "oJlnB1xZvfeU"
   },
   "outputs": [],
   "source": []
  }
 ],
 "metadata": {
  "colab": {
   "name": "hw05_task.ipynb",
   "provenance": []
  },
  "kernelspec": {
   "display_name": "Python 3",
   "language": "python",
   "name": "python3"
  },
  "language_info": {
   "codemirror_mode": {
    "name": "ipython",
    "version": 3
   },
   "file_extension": ".py",
   "mimetype": "text/x-python",
   "name": "python",
   "nbconvert_exporter": "python",
   "pygments_lexer": "ipython3",
   "version": "3.7.3"
  }
 },
 "nbformat": 4,
 "nbformat_minor": 1
}
