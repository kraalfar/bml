{
 "cells": [
  {
   "cell_type": "markdown",
   "metadata": {},
   "source": [
    "# Наивный Байес и спам\n",
    "__Суммарное количество баллов: 10__\n",
    "\n",
    "__Решение отправлять на `ml.course.practice@gmail.com`__\n",
    "\n",
    "__Тема письма: `[ML][MS][HW08] <ФИ>`, где вместо `<ФИ>` указаны фамилия и имя__"
   ]
  },
  {
   "cell_type": "code",
   "execution_count": 40,
   "metadata": {},
   "outputs": [],
   "source": [
    "from sklearn.model_selection import train_test_split\n",
    "import numpy as np\n",
    "import pandas\n",
    "import random\n",
    "import matplotlib.pyplot as plt\n",
    "import matplotlib\n",
    "import copy\n",
    "import spacy\n",
    "import nltk\n",
    "from nltk.stem.snowball import SnowballStemmer\n",
    "from collections import defaultdict"
   ]
  },
  {
   "cell_type": "code",
   "execution_count": 5,
   "metadata": {},
   "outputs": [],
   "source": [
    "import re\n",
    "def read_dataset(filename):\n",
    "    file = open(filename, encoding=\"utf-8\")\n",
    "    x = []\n",
    "    y = []\n",
    "    for line in file:\n",
    "        cl, sms = re.split(\"^(ham|spam)[\\t\\s]+(.*)$\", line)[1:3]\n",
    "        x.append(sms)\n",
    "        y.append(cl)\n",
    "    return np.array(x, dtype=np.str), np.array(y, dtype=np.str)"
   ]
  },
  {
   "cell_type": "code",
   "execution_count": 6,
   "metadata": {},
   "outputs": [],
   "source": [
    "def get_precision_recall_accuracy(y_pred, y_true):\n",
    "    classes = np.unique(list(y_pred) + list(y_true))\n",
    "    true_positive = dict((c, 0) for c in classes)\n",
    "    true_negative = dict((c, 0) for c in classes)\n",
    "    false_positive = dict((c, 0) for c in classes)\n",
    "    false_negative = dict((c, 0) for c in classes)\n",
    "    for c_pred, c_true in zip(y_pred, y_true):\n",
    "        for c in classes:\n",
    "            if c_true == c:\n",
    "                if c_pred == c_true:\n",
    "                    true_positive[c] = true_positive.get(c, 0) + 1\n",
    "                else:\n",
    "                    false_negative[c] = false_negative.get(c, 0) + 1\n",
    "            else:\n",
    "                if c_pred == c:\n",
    "                    false_positive[c] = false_positive.get(c, 0) + 1\n",
    "                else:\n",
    "                    true_negative[c] = true_negative.get(c, 0) + 1\n",
    "    precision = dict((c, true_positive[c] / (true_positive[c] + false_positive[c])) for c in classes)\n",
    "    recall = dict((c, true_positive[c] / (true_positive[c] + false_negative[c])) for c in classes)\n",
    "    accuracy = sum([true_positive[c] for c in classes]) / len(y_pred)\n",
    "    return precision, recall, accuracy\n",
    "\n",
    "def plot_precision_recall(X_train, y_train, X_test, y_test, bow_method, voc_sizes=range(4, 200, 5)):\n",
    "    classes = np.unique(list(y_train) + list(y_test))\n",
    "    precisions = dict([(c, []) for c in classes])\n",
    "    recalls = dict([(c, []) for c in classes])\n",
    "    accuracies = []\n",
    "    for v in voc_sizes:\n",
    "        bow = bow_method(X_train, voc_limit=v)\n",
    "        X_train_transformed = bow.transform(X_train)\n",
    "        X_test_transformed = bow.transform(X_test)\n",
    "        classifier = NaiveBayes(0.001)\n",
    "        classifier.fit(X_train_transformed, y_train, voc_limit=v)\n",
    "        y_pred = classifier.predict(X_test_transformed)\n",
    "        precision, recall, acc = get_precision_recall_accuracy(y_pred, y_test)\n",
    "        for c in classes:\n",
    "            precisions[c].append(precision[c])\n",
    "            recalls[c].append(recall[c])\n",
    "        accuracies.append(acc)\n",
    "    def plot(x, ys, ylabel, legend=True):        \n",
    "        plt.figure(figsize = (12, 3))\n",
    "        plt.xlabel(\"Vocabulary size\")\n",
    "        plt.ylabel(ylabel)\n",
    "        plt.xlim(x[0], x[-1])\n",
    "        plt.ylim(np.min(list(ys.values()))-0.01, np.max(list(ys.values()))+0.01)\n",
    "        for c in ys.keys():\n",
    "            plt.plot(x, ys[c], label=\"Class \" + str(c))\n",
    "        if legend:\n",
    "            plt.legend()\n",
    "        plt.tight_layout()\n",
    "        plt.show()\n",
    "    \n",
    "    plot(voc_sizes, recalls, \"Recall\")\n",
    "    plot(voc_sizes, precisions, \"Precision\")\n",
    "    plot(voc_sizes, {\"\":accuracies}, \"Accuracy\", legend=False)"
   ]
  },
  {
   "cell_type": "code",
   "execution_count": 7,
   "metadata": {},
   "outputs": [],
   "source": [
    "X, y = read_dataset(\"spam\")"
   ]
  },
  {
   "cell_type": "code",
   "execution_count": 8,
   "metadata": {},
   "outputs": [
    {
     "name": "stderr",
     "output_type": "stream",
     "text": [
      "/Users/faridbag/anaconda3/lib/python3.7/site-packages/sklearn/model_selection/_split.py:2179: FutureWarning: From version 0.21, test_size will always complement train_size unless both are specified.\n",
      "  FutureWarning)\n"
     ]
    }
   ],
   "source": [
    "X_train, X_test, y_train, y_test = train_test_split(X, y, train_size=0.9)"
   ]
  },
  {
   "cell_type": "markdown",
   "metadata": {},
   "source": [
    "### Задание 1 (3 балла)\n",
    "Реализуйте классификацию методом Байеса в предположении независимости компонент `x`. При реализации следует считать, что значения каждой компоненты дискретны, а `p(x|y)` имеет мультиномиальное распределение.\n",
    "\n",
    "#### Методы\n",
    "`fit(X, y)` - оценивает параметры распределения `p(x|y)` для каждого `y`. \n",
    "\n",
    "`log_proba(X)` - для каждого элемента набора `X` считает логарифм вероятности отнести его к каждому классу. По теореме Байеса: `p(y|x) = p(y)p(x|y)/p(x)`. Соответственно, после логарифмирования: `log p(y|x) = log p(y) + log p(x|y) - log p(x)`. Поскольку `log p(x)` является независящей от класса `y` константой, это слагаемое никак не влияет на решение задачи максимизации. Поэтому его можно просто убрать для простоты."
   ]
  },
  {
   "cell_type": "code",
   "execution_count": 28,
   "metadata": {},
   "outputs": [],
   "source": [
    "class NaiveBayes:\n",
    "    def __init__(self, alpha):\n",
    "        self.alpha = alpha \n",
    "    \n",
    "    def fit(self, X, y, voc_limit=1000):\n",
    "        self.classes = np.unique(y)\n",
    "        self.vl = voc_limit\n",
    "        self.cls_probs = {cls:0 for cls in self.classes}\n",
    "        self.probs = {cls:defaultdict(lambda: defaultdict(int)) for cls in self.classes}\n",
    "        for x, cls in zip(X, y):\n",
    "            self.cls_probs[cls] += 1 / len(y)\n",
    "            cd = defaultdict(int)\n",
    "            for v in x:\n",
    "                if v >=0:\n",
    "                    cd[v] += 1\n",
    "                    if cd[v] > 9:\n",
    "                        cd[v] = 9\n",
    "            for v in range(voc_limit):\n",
    "                self.probs[cls][v][cd[v]] += 1\n",
    "        \n",
    "        for cls in self.classes:\n",
    "            tot = self.cls_probs[cls] * len(y) + 10 * self.alpha\n",
    "            for x in self.probs[cls]:\n",
    "#                 tot = sum(self.probs[cls][x].values())\n",
    "                for am in range(10):\n",
    "                    self.probs[cls][x][am] = (self.probs[cls][x][am] + self.alpha) / tot\n",
    "        \n",
    "    def predict(self, X):\n",
    "        return [self.classes[i] for i in np.argmax(self.log_proba(X), axis=1)]\n",
    "    \n",
    "    def log_proba(self, X):\n",
    "        res = np.zeros((X.shape[0], len(self.classes)))\n",
    "        for i, x in enumerate(X):\n",
    "            cd = defaultdict(int)\n",
    "            for v in x:\n",
    "                if v >=0:\n",
    "                    cd[v] += 1\n",
    "                    if cd[v] > 9:\n",
    "                        cd[v] = 9\n",
    "            for j, cls in enumerate(self.classes):\n",
    "                res[i, j] = np.log(self.cls_probs[cls]) \n",
    "                for w in range(self.vl):\n",
    "                    res[i, j] += np.log(self.probs[cls][w][cd[w]])\n",
    "        return res"
   ]
  },
  {
   "cell_type": "code",
   "execution_count": 97,
   "metadata": {},
   "outputs": [],
   "source": [
    "class NaiveBayes2:\n",
    "    def __init__(self, alpha):\n",
    "        self.alpha = alpha \n",
    "    \n",
    "    def fit(self, X, y, voc_limit=1000):\n",
    "        self.classes = np.unique(y)\n",
    "        self.vl = voc_limit\n",
    "        self.cls_probs = {cls:self.alpha for cls in self.classes}\n",
    "        self.probs = {cls: {i:self.alpha for i in range(self.vl)} for cls in self.classes}\n",
    "        for x, cls in zip(X, y):\n",
    "            self.cls_probs[cls] += 1 / len(y)\n",
    "            for v in x:\n",
    "                if v >=0:\n",
    "                    self.probs[cls][v] += 1\n",
    "\n",
    "        \n",
    "        for cls in self.classes:\n",
    "            tot = sum(self.probs[cls].values())\n",
    "            for x in self.probs[cls]:\n",
    "                self.probs[cls][x] /= tot\n",
    "        \n",
    "    def predict(self, X):\n",
    "        return [self.classes[i] for i in np.argmax(self.log_proba(X), axis=1)]\n",
    "    \n",
    "    def log_proba(self, X):\n",
    "        res = np.zeros((X.shape[0], len(self.classes)))\n",
    "        for i, x in enumerate(X):\n",
    "            cd = defaultdict(int)\n",
    "            for v in x:\n",
    "                if v >=0:\n",
    "                    cd[v] += 1\n",
    "                    if cd[v] > 9:\n",
    "                        cd[v] = 9\n",
    "            for j, cls in enumerate(self.classes):\n",
    "                res[i, j] = np.log(self.cls_probs[cls]) \n",
    "                for w in range(self.vl):\n",
    "                    res[i, j] += np.log(self.probs[cls][w]) * cd[w]\n",
    "        return res"
   ]
  },
  {
   "cell_type": "markdown",
   "metadata": {},
   "source": [
    "### Задание 2 (3 балла)\n",
    "Теперь реализуем метод bag of words. Задача состоит в том, чтобы посчитать количество вхождений каждого слова в предложение.\n",
    "\n",
    "#### Методы\n",
    "`__init__(X, voc_limit)` - инициализирует BoW, составляя словарь, который будет использоваться для векторизации предложений. Размер словаря должен быть не больше `voc_limit`, в него должны входить самые часто встречающиеся в выборке слова.\n",
    "\n",
    "`transform(X)` - векторизует сообщения из набора."
   ]
  },
  {
   "cell_type": "code",
   "execution_count": 56,
   "metadata": {},
   "outputs": [],
   "source": [
    "tok = nltk.tokenize.TweetTokenizer()"
   ]
  },
  {
   "cell_type": "code",
   "execution_count": 60,
   "metadata": {},
   "outputs": [],
   "source": [
    "class BoW:\n",
    "    def __init__(self, X, voc_limit=1000):\n",
    "        voc_all = {}\n",
    "        for x in X:\n",
    "            for word in tok.tokenize(x.lower()):\n",
    "                if word in voc_all:\n",
    "                    voc_all[word] += 1\n",
    "                else:\n",
    "                    voc_all[word] = 1\n",
    "        keys = sorted(voc_all, key=lambda x: voc_all[x], reverse=True)\n",
    "        self.voc = []\n",
    "        cnt = 0\n",
    "        for key in keys:\n",
    "            self.voc.append(key)\n",
    "            cnt += 1\n",
    "            if cnt >= voc_limit:\n",
    "                break\n",
    "        self.word2id = {self.voc[i]:i for i in range(len(self.voc))}\n",
    "                \n",
    "    def transform(self, X):\n",
    "        res = []\n",
    "        for x in X:\n",
    "            vec_x = []\n",
    "            for word in tok.tokenize(x.lower()):\n",
    "                if word in self.word2id:\n",
    "                    vec_x.append(self.word2id[word])\n",
    "                else:\n",
    "                    vec_x.append(-1)\n",
    "            res.append(np.array(vec_x))\n",
    "        return np.array(res)"
   ]
  },
  {
   "cell_type": "code",
   "execution_count": 61,
   "metadata": {},
   "outputs": [],
   "source": [
    "bow = BoW(X_train, voc_limit=500)\n",
    "X_train_bow = bow.transform(X_train)\n",
    "X_test_bow = bow.transform(X_test)"
   ]
  },
  {
   "cell_type": "code",
   "execution_count": 99,
   "metadata": {
    "scrolled": true
   },
   "outputs": [
    {
     "data": {
      "text/plain": [
       "({'ham': 0.9873949579831933, 'spam': 0.926829268292683},\n",
       " {'ham': 0.9873949579831933, 'spam': 0.926829268292683},\n",
       " 0.978494623655914)"
      ]
     },
     "execution_count": 99,
     "metadata": {},
     "output_type": "execute_result"
    }
   ],
   "source": [
    "predictor = NaiveBayes2(0.001)\n",
    "predictor.fit(X_train_bow, y_train, voc_limit=500)\n",
    "get_precision_recall_accuracy(predictor.predict(X_test_bow), y_test)"
   ]
  },
  {
   "cell_type": "code",
   "execution_count": 100,
   "metadata": {
    "scrolled": true
   },
   "outputs": [
    {
     "data": {
      "text/plain": [
       "({'ham': 0.9874476987447699, 'spam': 0.95},\n",
       " {'ham': 0.9915966386554622, 'spam': 0.926829268292683},\n",
       " 0.982078853046595)"
      ]
     },
     "execution_count": 100,
     "metadata": {},
     "output_type": "execute_result"
    }
   ],
   "source": [
    "predictor = NaiveBayes(0.001)\n",
    "predictor.fit(X_train_bow, y_train, voc_limit=500)\n",
    "get_precision_recall_accuracy(predictor.predict(X_test_bow), y_test)"
   ]
  },
  {
   "cell_type": "code",
   "execution_count": 63,
   "metadata": {},
   "outputs": [
    {
     "data": {
      "image/png": "[encoded data removed]",
      "text/plain": [
       "<Figure size 864x216 with 1 Axes>"
      ]
     },
     "metadata": {
      "needs_background": "light"
     },
     "output_type": "display_data"
    },
    {
     "data": {
      "image/png": "[encoded data removed]",
      "text/plain": [
       "<Figure size 864x216 with 1 Axes>"
      ]
     },
     "metadata": {
      "needs_background": "light"
     },
     "output_type": "display_data"
    },
    {
     "data": {
      "image/png": "[encoded data removed]",
      "text/plain": [
       "<Figure size 864x216 with 1 Axes>"
      ]
     },
     "metadata": {
      "needs_background": "light"
     },
     "output_type": "display_data"
    }
   ],
   "source": [
    "plot_precision_recall(X_train, y_train, X_test, y_test, BoW)"
   ]
  },
  {
   "cell_type": "markdown",
   "metadata": {},
   "source": [
    "### Задание 3 (2 балла)\n",
    "Теперь добавим в BoW стемминг. Для этого нам понадобится класс SnowballStemmer из пакета `nltk`\n",
    "\n",
    "#### Методы\n",
    "`__init__(X, voc_limit)` - инициализирует BoW, составляя словарь, который будет использоваться для векторизации предложений. Размер словаря должен быть не больше `voc_limit`, в него должны входить самые часто встречающиеся в выборке слова.\n",
    "\n",
    "`transform(X)` - векторизует сообщения из набора."
   ]
  },
  {
   "cell_type": "code",
   "execution_count": 34,
   "metadata": {},
   "outputs": [],
   "source": [
    "stemmer = SnowballStemmer(\"english\")"
   ]
  },
  {
   "cell_type": "code",
   "execution_count": 64,
   "metadata": {},
   "outputs": [],
   "source": [
    "class BowStem:\n",
    "    def __init__(self, X, voc_limit=1000):\n",
    "        voc_all = {}\n",
    "        for x in X:\n",
    "            for word in tok.tokenize(x.lower()):\n",
    "                word = stemmer.stem(word)\n",
    "                if word in voc_all:\n",
    "                    voc_all[word] += 1\n",
    "                else:\n",
    "                    voc_all[word] = 1\n",
    "        keys = sorted(voc_all, key=lambda x: voc_all[x], reverse=True)\n",
    "        self.voc = []\n",
    "        cnt = 0\n",
    "        for key in keys:\n",
    "            self.voc.append(key)\n",
    "            cnt += 1\n",
    "            if cnt >= voc_limit:\n",
    "                break\n",
    "        self.word2id = {self.voc[i]:i for i in range(len(self.voc))}\n",
    "                \n",
    "    def transform(self, X):\n",
    "        res = []\n",
    "        for x in X:\n",
    "            vec_x = []\n",
    "            for word in tok.tokenize(x.lower()):\n",
    "                word = stemmer.stem(word)\n",
    "                if word in self.word2id:\n",
    "                    vec_x.append(self.word2id[word])\n",
    "                else:\n",
    "                    vec_x.append(-1)\n",
    "            res.append(np.array(vec_x))\n",
    "        return np.array(res)"
   ]
  },
  {
   "cell_type": "code",
   "execution_count": 65,
   "metadata": {},
   "outputs": [],
   "source": [
    "bows = BowStem(X_train, voc_limit=500)\n",
    "X_train_bows = bows.transform(X_train)\n",
    "X_test_bows = bows.transform(X_test)"
   ]
  },
  {
   "cell_type": "code",
   "execution_count": 101,
   "metadata": {},
   "outputs": [
    {
     "data": {
      "text/plain": [
       "({'ham': 0.9894291754756871, 'spam': 0.9058823529411765},\n",
       " {'ham': 0.9831932773109243, 'spam': 0.9390243902439024},\n",
       " 0.9767025089605734)"
      ]
     },
     "execution_count": 101,
     "metadata": {},
     "output_type": "execute_result"
    }
   ],
   "source": [
    "predictor = NaiveBayes2(0.001)\n",
    "predictor.fit(X_train_bows, y_train)\n",
    "get_precision_recall_accuracy(predictor.predict(X_test_bows), y_test)"
   ]
  },
  {
   "cell_type": "code",
   "execution_count": 66,
   "metadata": {},
   "outputs": [
    {
     "data": {
      "text/plain": [
       "({'ham': 0.9874476987447699, 'spam': 0.95},\n",
       " {'ham': 0.9915966386554622, 'spam': 0.926829268292683},\n",
       " 0.982078853046595)"
      ]
     },
     "execution_count": 66,
     "metadata": {},
     "output_type": "execute_result"
    }
   ],
   "source": [
    "predictor = NaiveBayes(0.001)\n",
    "predictor.fit(X_train_bows, y_train)\n",
    "get_precision_recall_accuracy(predictor.predict(X_test_bows), y_test)"
   ]
  },
  {
   "cell_type": "code",
   "execution_count": 67,
   "metadata": {},
   "outputs": [
    {
     "data": {
      "image/png": "[encoded data removed]",
      "text/plain": [
       "<Figure size 864x216 with 1 Axes>"
      ]
     },
     "metadata": {
      "needs_background": "light"
     },
     "output_type": "display_data"
    },
    {
     "data": {
      "image/png": "[encoded data removed]",
      "text/plain": [
       "<Figure size 864x216 with 1 Axes>"
      ]
     },
     "metadata": {
      "needs_background": "light"
     },
     "output_type": "display_data"
    },
    {
     "data": {
      "image/png": "[encoded data removed]",
      "text/plain": [
       "<Figure size 864x216 with 1 Axes>"
      ]
     },
     "metadata": {
      "needs_background": "light"
     },
     "output_type": "display_data"
    }
   ],
   "source": [
    "plot_precision_recall(X_train, y_train, X_test, y_test, BowStem)"
   ]
  },
  {
   "cell_type": "code",
   "execution_count": 68,
   "metadata": {},
   "outputs": [],
   "source": [
    "lol = 12e-4"
   ]
  },
  {
   "cell_type": "code",
   "execution_count": 69,
   "metadata": {},
   "outputs": [
    {
     "data": {
      "text/plain": [
       "0.0012"
      ]
     },
     "execution_count": 69,
     "metadata": {},
     "output_type": "execute_result"
    }
   ],
   "source": [
    "lol"
   ]
  },
  {
   "cell_type": "code",
   "execution_count": 79,
   "metadata": {},
   "outputs": [
    {
     "name": "stdout",
     "output_type": "stream",
     "text": [
      "0.001\n",
      "-0.001\n"
     ]
    }
   ],
   "source": [
    "print(f\"{lol:2.3f}\")\n",
    "print(f\"{-lol:2.3f}\")"
   ]
  },
  {
   "cell_type": "code",
   "execution_count": null,
   "metadata": {},
   "outputs": [],
   "source": []
  }
 ],
 "metadata": {
  "kernelspec": {
   "display_name": "Python 3",
   "language": "python",
   "name": "python3"
  },
  "language_info": {
   "codemirror_mode": {
    "name": "ipython",
    "version": 3
   },
   "file_extension": ".py",
   "mimetype": "text/x-python",
   "name": "python",
   "nbconvert_exporter": "python",
   "pygments_lexer": "ipython3",
   "version": "3.7.3"
  }
 },
 "nbformat": 4,
 "nbformat_minor": 2
}
